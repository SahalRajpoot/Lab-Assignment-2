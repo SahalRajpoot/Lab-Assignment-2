{
 "cells": [
  {
   "cell_type": "code",
   "execution_count": 6,
   "id": "dd025c95-63dc-46db-be50-cd9a4c257569",
   "metadata": {},
   "outputs": [
    {
     "name": "stdout",
     "output_type": "stream",
     "text": [
      "zero\n",
      "postive number\n"
     ]
    }
   ],
   "source": [
    "# Question 1: \n",
    "number = 0\n",
    "if number > 0:\n",
    "    print('postive number')\n",
    "elif number==0:\n",
    "    print('zero')\n",
    "elif number<0:\n",
    "    print('negtive number')\n",
    "# For better understanding lets an another example\n",
    "number = 5\n",
    "if number > 0:\n",
    "    print('postive number')\n",
    "elif number ==0:\n",
    "    print('Zero')\n",
    "# else:\n",
    "    print('Negtive number')"
   ]
  },
  {
   "cell_type": "code",
   "execution_count": 7,
   "id": "90deb6a3-e7f2-473c-b85c-8131f3f4cef1",
   "metadata": {},
   "outputs": [
    {
     "name": "stdout",
     "output_type": "stream",
     "text": [
      "leap year\n"
     ]
    }
   ],
   "source": [
    "# Question 2:\n",
    "\n",
    "year = 366\n",
    "if year>365:\n",
    "    print(\"leap year\")\n",
    "elif year == 365:\n",
    "    print('Normal year')\n",
    "elif year < 365:\n",
    "    print('Not A year')"
   ]
  },
  {
   "cell_type": "code",
   "execution_count": null,
   "id": "4a6bccc5-f484-4e02-bedb-dd41112d86fb",
   "metadata": {},
   "outputs": [],
   "source": [
    "# question 3:\n",
    "score = 85\n",
    "if score> 80:\n",
    "    print('Grade A')\n",
    "elif score >= 70:\n",
    "    print ('Grade B')\n",
    "elif score >= 60:\n",
    "    print('Grade C')\n",
    "elif score >= 55:\n",
    "    print('Grade E')\n",
    "else:\n",
    "    print(Gra"
   ]
  }
 ],
 "metadata": {
  "kernelspec": {
   "display_name": "Python 3 (ipykernel)",
   "language": "python",
   "name": "python3"
  },
  "language_info": {
   "codemirror_mode": {
    "name": "ipython",
    "version": 3
   },
   "file_extension": ".py",
   "mimetype": "text/x-python",
   "name": "python",
   "nbconvert_exporter": "python",
   "pygments_lexer": "ipython3",
   "version": "3.13.2"
  }
 },
 "nbformat": 4,
 "nbformat_minor": 5
}
